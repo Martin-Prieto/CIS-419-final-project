{
 "cells": [
  {
   "cell_type": "code",
   "execution_count": 33,
   "id": "128e89fb",
   "metadata": {},
   "outputs": [
    {
     "name": "stdout",
     "output_type": "stream",
     "text": [
      "Requirement already satisfied: pysoundfile in /home/ec2-user/anaconda3/envs/pytorch_p36/lib/python3.6/site-packages (0.9.0.post1)\n",
      "Requirement already satisfied: cffi>=0.6 in /home/ec2-user/anaconda3/envs/pytorch_p36/lib/python3.6/site-packages (from pysoundfile) (1.15.0)\n",
      "Requirement already satisfied: pycparser in /home/ec2-user/anaconda3/envs/pytorch_p36/lib/python3.6/site-packages (from cffi>=0.6->pysoundfile) (2.21)\n",
      "\u001b[33mWARNING: You are using pip version 21.2.4; however, version 21.3.1 is available.\n",
      "You should consider upgrading via the '/home/ec2-user/anaconda3/envs/pytorch_p36/bin/python -m pip install --upgrade pip' command.\u001b[0m\n",
      "Note: you may need to restart the kernel to use updated packages.\n",
      "Requirement already satisfied: pedalboard in /home/ec2-user/anaconda3/envs/pytorch_p36/lib/python3.6/site-packages (0.3.8)\n",
      "Requirement already satisfied: numpy in /home/ec2-user/anaconda3/envs/pytorch_p36/lib/python3.6/site-packages (from pedalboard) (1.19.5)\n",
      "\u001b[33mWARNING: You are using pip version 21.2.4; however, version 21.3.1 is available.\n",
      "You should consider upgrading via the '/home/ec2-user/anaconda3/envs/pytorch_p36/bin/python -m pip install --upgrade pip' command.\u001b[0m\n",
      "Note: you may need to restart the kernel to use updated packages.\n",
      "Requirement already satisfied: torchaudio in /home/ec2-user/anaconda3/envs/pytorch_p36/lib/python3.6/site-packages (0.10.0)\n",
      "Requirement already satisfied: torch==1.10.0 in /home/ec2-user/anaconda3/envs/pytorch_p36/lib/python3.6/site-packages (from torchaudio) (1.10.0)\n",
      "Requirement already satisfied: dataclasses in /home/ec2-user/anaconda3/envs/pytorch_p36/lib/python3.6/site-packages (from torch==1.10.0->torchaudio) (0.8)\n",
      "Requirement already satisfied: typing-extensions in /home/ec2-user/anaconda3/envs/pytorch_p36/lib/python3.6/site-packages (from torch==1.10.0->torchaudio) (3.10.0.2)\n",
      "\u001b[33mWARNING: You are using pip version 21.2.4; however, version 21.3.1 is available.\n",
      "You should consider upgrading via the '/home/ec2-user/anaconda3/envs/pytorch_p36/bin/python -m pip install --upgrade pip' command.\u001b[0m\n",
      "Note: you may need to restart the kernel to use updated packages.\n",
      "Requirement already satisfied: scipy in /home/ec2-user/anaconda3/envs/pytorch_p36/lib/python3.6/site-packages (1.5.3)\n",
      "Requirement already satisfied: numpy>=1.14.5 in /home/ec2-user/anaconda3/envs/pytorch_p36/lib/python3.6/site-packages (from scipy) (1.19.5)\n",
      "\u001b[33mWARNING: You are using pip version 21.2.4; however, version 21.3.1 is available.\n",
      "You should consider upgrading via the '/home/ec2-user/anaconda3/envs/pytorch_p36/bin/python -m pip install --upgrade pip' command.\u001b[0m\n",
      "Note: you may need to restart the kernel to use updated packages.\n"
     ]
    }
   ],
   "source": [
    "%pip install pysoundfile\n",
    "%pip install pedalboard\n",
    "%pip install torchaudio\n",
    "%pip install scipy"
   ]
  },
  {
   "cell_type": "code",
   "execution_count": 37,
   "id": "ee0eef62",
   "metadata": {},
   "outputs": [],
   "source": [
    "import matplotlib.pyplot as plt\n",
    "import numpy as np\n",
    "import wave\n",
    "import sys\n",
    "import math\n",
    "import contextlib\n",
    "import torch\n",
    "import torchaudio\n",
    "import math\n",
    "from IPython.display import Audio\n",
    "from pedalboard import (\n",
    "    Pedalboard,\n",
    "    Convolution,\n",
    "    Distortion,\n",
    "    Limiter\n",
    ")"
   ]
  },
  {
   "cell_type": "code",
   "execution_count": null,
   "id": "fb7d8974",
   "metadata": {},
   "outputs": [],
   "source": [
    "file_name = \"data_segments/0_1.wav\"\n",
    "out_name = \"Test/noise3.wav\""
   ]
  },
  {
   "cell_type": "code",
   "execution_count": 14,
   "id": "0c3cf0fb",
   "metadata": {},
   "outputs": [],
   "source": [
    "def LowPassFilter(fname, outname, intensity):\n",
    "    cutOffFrequency = math.exp(intensity) * (-11057.55743) + 31057.55743 \n",
    "    print(cutOffFrequency)\n",
    "    with contextlib.closing(wave.open(fname,'rb')) as spf:\n",
    "        sampleRate = spf.getframerate()\n",
    "        ampWidth = spf.getsampwidth()\n",
    "        nChannels = spf.getnchannels()\n",
    "        nFrames = spf.getnframes()\n",
    "\n",
    "        # Extract Raw Audio from multi-channel Wav File\n",
    "        signal = spf.readframes(nFrames*nChannels)\n",
    "        spf.close()\n",
    "        channels = interpret_wav(signal, nFrames, nChannels, ampWidth, True)\n",
    "\n",
    "        # get window size\n",
    "        # from http://dsp.stackexchange.com/questions/9966/what-is-the-cut-off-frequency-of-a-moving-average-filter\n",
    "        freqRatio = (cutOffFrequency/sampleRate)\n",
    "        N = int(math.sqrt(0.196196 + freqRatio**2)/freqRatio)\n",
    "\n",
    "        # Use moviung average (only on first channel)\n",
    "        filtered = running_mean(channels[0], N).astype(channels.dtype)\n",
    "\n",
    "        wav_file = wave.open(outname, \"w\")\n",
    "        wav_file.setparams((1, ampWidth, sampleRate, nFrames, spf.getcomptype(), spf.getcompname()))\n",
    "        wav_file.writeframes(filtered.tobytes('C'))\n",
    "        wav_file.close()\n",
    "\n",
    "    \n",
    "    \n",
    "def running_mean(x, windowSize):\n",
    "    cumsum = np.cumsum(np.insert(x, 0, 0)) \n",
    "    return (cumsum[windowSize:] - cumsum[:-windowSize]) / windowSize\n",
    "\n",
    "def interpret_wav(raw_bytes, n_frames, n_channels, sample_width, interleaved = True):\n",
    "\n",
    "    if sample_width == 1:\n",
    "        dtype = np.uint8 # unsigned char\n",
    "    elif sample_width == 2:\n",
    "        dtype = np.int16 # signed 2-byte short\n",
    "    elif sample_width == 4:\n",
    "        dtype = np.int32\n",
    "    else:\n",
    "        raise ValueError(\"Only supports 8 and 16 bit audio formats.\")\n",
    "\n",
    "    channels = np.fromstring(raw_bytes, dtype=dtype)\n",
    "\n",
    "    if interleaved:\n",
    "        # channels are interleaved, i.e. sample N of channel M follows sample N of channel M-1 in raw data\n",
    "        channels.shape = (n_frames, n_channels)\n",
    "        channels = channels.T\n",
    "    else:\n",
    "        # channels are not interleaved. All samples from channel M occur before all samples from channel M-1\n",
    "        channels.shape = (n_channels, n_frames)\n",
    "\n",
    "    return channels"
   ]
  },
  {
   "cell_type": "code",
   "execution_count": 29,
   "id": "ad1277cb",
   "metadata": {},
   "outputs": [
    {
     "name": "stdout",
     "output_type": "stream",
     "text": [
      "1000.0000008887\n"
     ]
    },
    {
     "name": "stderr",
     "output_type": "stream",
     "text": [
      "/home/ec2-user/anaconda3/envs/pytorch_p36/lib/python3.6/site-packages/ipykernel/__main__.py:45: DeprecationWarning: The binary mode of fromstring is deprecated, as it behaves surprisingly on unicode inputs. Use frombuffer instead\n"
     ]
    }
   ],
   "source": [
    "def Noise(fname, outname, intensity):\n",
    "    c = 0.0999*intensity + 0.0001\n",
    "    signal, sr = torchaudio.load(fname)\n",
    "    signal = signal.numpy()\n",
    "    noise = np.random.normal(0, .1, signal.shape)\n",
    "    signal_noise = signal+c*noise\n",
    "    a = Audio(signal_noise, rate=sr)\n",
    "    with open(outname, 'wb') as f:\n",
    "        f.write(a.data)"
   ]
  },
  {
   "cell_type": "code",
   "execution_count": 30,
   "id": "9af38e16",
   "metadata": {},
   "outputs": [],
   "source": [
    "def Distort(fname, outname, intensity):\n",
    "    sig, sr = torchaudio.load(fname)\n",
    "    board = Pedalboard([\n",
    "    Distortion(drive_db = 25*intensity)\n",
    "    ], sample_rate=sr)\n",
    "    effected = board(sig)\n",
    "    a = Audio(effected, rate=sr)\n",
    "    with open(outname, 'wb') as f:\n",
    "        f.write(a.data)"
   ]
  },
  {
   "cell_type": "code",
   "execution_count": 54,
   "id": "35ab3de1",
   "metadata": {},
   "outputs": [],
   "source": [
    "def Limit(fname, outname, intensity):\n",
    "    sig, sr = torchaudio.load(fname)\n",
    "    board = Pedalboard([\n",
    "    Limiter(threshold_db = -30*intensity, release_ms = 10)\n",
    "    ], sample_rate=sr)\n",
    "    effected = board(sig)\n",
    "    a = Audio(effected, rate=sr)\n",
    "    with open(outname, 'wb') as f:\n",
    "        f.write(a.data)"
   ]
  },
  {
   "cell_type": "code",
   "execution_count": 55,
   "id": "33d43ff5",
   "metadata": {},
   "outputs": [],
   "source": [
    "file_name = \"data_segments/0_1.wav\"\n",
    "out_name = \"Test/noise3.wav\"\n",
    "Limit(file_name, out_name, 0.3)"
   ]
  },
  {
   "cell_type": "code",
   "execution_count": null,
   "id": "793d99cf",
   "metadata": {},
   "outputs": [],
   "source": []
  }
 ],
 "metadata": {
  "kernelspec": {
   "display_name": "conda_pytorch_p36",
   "language": "python",
   "name": "conda_pytorch_p36"
  },
  "language_info": {
   "codemirror_mode": {
    "name": "ipython",
    "version": 3
   },
   "file_extension": ".py",
   "mimetype": "text/x-python",
   "name": "python",
   "nbconvert_exporter": "python",
   "pygments_lexer": "ipython3",
   "version": "3.6.13"
  }
 },
 "nbformat": 4,
 "nbformat_minor": 5
}
