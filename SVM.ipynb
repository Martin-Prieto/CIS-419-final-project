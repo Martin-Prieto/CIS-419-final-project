{
 "cells": [
  {
   "cell_type": "code",
   "execution_count": 89,
   "id": "c9434ecb",
   "metadata": {},
   "outputs": [],
   "source": [
    "import itertools\n",
    "import random\n",
    "from typing import Tuple\n",
    "import wave\n",
    "import matplotlib.pyplot as plt\n",
    "import torch\n",
    "import torch.nn as nn\n",
    "from torch.utils.data import random_split\n",
    "import torchaudio.transforms as T\n",
    "from IPython.display import Audio\n",
    "from torch.utils.data import Dataset, DataLoader, Subset\n",
    "import math, random\n",
    "import torchaudio\n",
    "from torchaudio import transforms\n",
    "from IPython.display import Audio\n",
    "import pdb\n",
    "import pandas as pd\n",
    "import torchaudio.transforms\n",
    "import torch\n",
    "import pandas as pd\n",
    "import numpy as np\n",
    "from scipy.stats import kurtosis, skew"
   ]
  },
  {
   "cell_type": "code",
   "execution_count": 209,
   "id": "e6779d45",
   "metadata": {
    "scrolled": true
   },
   "outputs": [
    {
     "data": {
      "text/html": [
       "<div>\n",
       "<style scoped>\n",
       "    .dataframe tbody tr th:only-of-type {\n",
       "        vertical-align: middle;\n",
       "    }\n",
       "\n",
       "    .dataframe tbody tr th {\n",
       "        vertical-align: top;\n",
       "    }\n",
       "\n",
       "    .dataframe thead th {\n",
       "        text-align: right;\n",
       "    }\n",
       "</style>\n",
       "<table border=\"1\" class=\"dataframe\">\n",
       "  <thead>\n",
       "    <tr style=\"text-align: right;\">\n",
       "      <th></th>\n",
       "      <th>index</th>\n",
       "      <th>audio</th>\n",
       "      <th>intensity</th>\n",
       "    </tr>\n",
       "  </thead>\n",
       "  <tbody>\n",
       "    <tr>\n",
       "      <th>0</th>\n",
       "      <td>1</td>\n",
       "      <td>[[tensor(-0.7592), tensor(-0.8084), tensor(-0....</td>\n",
       "      <td>95.076299</td>\n",
       "    </tr>\n",
       "    <tr>\n",
       "      <th>1</th>\n",
       "      <td>2</td>\n",
       "      <td>[[tensor(-0.0686), tensor(-0.0764), tensor(-0....</td>\n",
       "      <td>70.015840</td>\n",
       "    </tr>\n",
       "    <tr>\n",
       "      <th>2</th>\n",
       "      <td>3</td>\n",
       "      <td>[[tensor(-1.0000), tensor(-1.0000), tensor(-1....</td>\n",
       "      <td>67.107005</td>\n",
       "    </tr>\n",
       "    <tr>\n",
       "      <th>3</th>\n",
       "      <td>4</td>\n",
       "      <td>[[tensor(-0.0646), tensor(-0.0725), tensor(-0....</td>\n",
       "      <td>4.039027</td>\n",
       "    </tr>\n",
       "    <tr>\n",
       "      <th>4</th>\n",
       "      <td>6</td>\n",
       "      <td>[[tensor(0.6123), tensor(0.6109), tensor(0.583...</td>\n",
       "      <td>58.398384</td>\n",
       "    </tr>\n",
       "    <tr>\n",
       "      <th>...</th>\n",
       "      <td>...</td>\n",
       "      <td>...</td>\n",
       "      <td>...</td>\n",
       "    </tr>\n",
       "    <tr>\n",
       "      <th>7783</th>\n",
       "      <td>9729</td>\n",
       "      <td>[[tensor(-0.1500), tensor(-0.1235), tensor(-0....</td>\n",
       "      <td>7.819445</td>\n",
       "    </tr>\n",
       "    <tr>\n",
       "      <th>7784</th>\n",
       "      <td>9731</td>\n",
       "      <td>[[tensor(0.5547), tensor(0.5233), tensor(0.493...</td>\n",
       "      <td>18.190045</td>\n",
       "    </tr>\n",
       "    <tr>\n",
       "      <th>7785</th>\n",
       "      <td>9732</td>\n",
       "      <td>[[tensor(0.2384), tensor(0.2235), tensor(0.209...</td>\n",
       "      <td>0.611846</td>\n",
       "    </tr>\n",
       "    <tr>\n",
       "      <th>7786</th>\n",
       "      <td>9733</td>\n",
       "      <td>[[tensor(0.5199), tensor(0.4874), tensor(0.456...</td>\n",
       "      <td>2.546859</td>\n",
       "    </tr>\n",
       "    <tr>\n",
       "      <th>7787</th>\n",
       "      <td>9734</td>\n",
       "      <td>[[tensor(0.4746), tensor(0.4464), tensor(0.418...</td>\n",
       "      <td>2.461955</td>\n",
       "    </tr>\n",
       "  </tbody>\n",
       "</table>\n",
       "<p>7788 rows × 3 columns</p>\n",
       "</div>"
      ],
      "text/plain": [
       "      index                                              audio  intensity\n",
       "0         1  [[tensor(-0.7592), tensor(-0.8084), tensor(-0....  95.076299\n",
       "1         2  [[tensor(-0.0686), tensor(-0.0764), tensor(-0....  70.015840\n",
       "2         3  [[tensor(-1.0000), tensor(-1.0000), tensor(-1....  67.107005\n",
       "3         4  [[tensor(-0.0646), tensor(-0.0725), tensor(-0....   4.039027\n",
       "4         6  [[tensor(0.6123), tensor(0.6109), tensor(0.583...  58.398384\n",
       "...     ...                                                ...        ...\n",
       "7783   9729  [[tensor(-0.1500), tensor(-0.1235), tensor(-0....   7.819445\n",
       "7784   9731  [[tensor(0.5547), tensor(0.5233), tensor(0.493...  18.190045\n",
       "7785   9732  [[tensor(0.2384), tensor(0.2235), tensor(0.209...   0.611846\n",
       "7786   9733  [[tensor(0.5199), tensor(0.4874), tensor(0.456...   2.546859\n",
       "7787   9734  [[tensor(0.4746), tensor(0.4464), tensor(0.418...   2.461955\n",
       "\n",
       "[7788 rows x 3 columns]"
      ]
     },
     "execution_count": 209,
     "metadata": {},
     "output_type": "execute_result"
    }
   ],
   "source": [
    "# Retrieve dataset\n",
    "df = pd.read_pickle(\"df_final.pkl\")\n",
    "df = df[df.intensity != 0]\n",
    "df = df.reset_index()\n",
    "df"
   ]
  },
  {
   "cell_type": "code",
   "execution_count": 210,
   "id": "23097777",
   "metadata": {},
   "outputs": [],
   "source": [
    "def toStereo(aud):\n",
    "    if (aud.shape[0] == 2):\n",
    "        return aud\n",
    "    resig = torch.cat([aud, aud])\n",
    "\n",
    "    return resig\n",
    "\n",
    "def rezise(aud):\n",
    "    num_rows, sig_len = aud.shape\n",
    "    max_len = 48000//1000 * 4000\n",
    "\n",
    "    if (sig_len > max_len):\n",
    "        aud = aud[:,:max_len]\n",
    "\n",
    "    elif (sig_len < max_len):\n",
    "        pad_begin_len = random.randint(0, max_len - sig_len)\n",
    "        pad_end_len = max_len - sig_len - pad_begin_len\n",
    "\n",
    "        pad_begin = torch.zeros((num_rows, pad_begin_len))\n",
    "        pad_end = torch.zeros((num_rows, pad_end_len))\n",
    "\n",
    "        aud = torch.cat((pad_begin, aud, pad_end), 1)\n",
    "      \n",
    "    return aud\n",
    "\n",
    "class TransformedData(Dataset):\n",
    "    \"\"\"Transform the first channel of audio and return it together with the rating.\"\"\"\n",
    "    \n",
    "    def __init__(self, df, transforms: nn.Sequential):\n",
    "        self.df = df\n",
    "        self.transforms = transforms\n",
    "    \n",
    "    def __len__(self) -> int:\n",
    "        return self.df.shape[0]\n",
    "    \n",
    "    def __getitem__(self, n: int) -> Tuple[torch.Tensor, torch.Tensor]:\n",
    "        example = self.df.loc[n]\n",
    "        channel = example[\"audio\"]\n",
    "        channel_str = toStereo(channel)\n",
    "        channel_rezise = rezise(channel_str)\n",
    "        return self.transforms(channel_rezise), int(example[\"rating\"])"
   ]
  },
  {
   "cell_type": "code",
   "execution_count": 211,
   "id": "fa3b534b",
   "metadata": {},
   "outputs": [],
   "source": [
    "myds = TransformedData(df, transforms)\n",
    "df = myds.df"
   ]
  },
  {
   "cell_type": "code",
   "execution_count": 212,
   "id": "19c3f484",
   "metadata": {},
   "outputs": [],
   "source": [
    "n_mfcc = 13\n",
    "n_mels = 40\n",
    "n_fft = 512 \n",
    "hop_length = 160\n",
    "fmin = 0\n",
    "fmax = None\n",
    "sr = 48000\n",
    "melkwargs={\"n_fft\" : n_fft, \"n_mels\" : n_mels, \"hop_length\":hop_length, \"f_min\" : fmin, \"f_max\" : fmax}"
   ]
  },
  {
   "cell_type": "code",
   "execution_count": 213,
   "id": "eb19b7c5",
   "metadata": {},
   "outputs": [],
   "source": [
    "def get_mfcc(y):\n",
    "    mfcc_torch_db = torchaudio.transforms.MFCC(sample_rate=sr, n_mfcc=n_mfcc, \n",
    "                                               dct_type=2, norm='ortho', log_mels=False, \n",
    "                                               melkwargs=melkwargs)(torch.from_numpy(y[0]))\n",
    "    ft1 = mfcc_torch_db.numpy()\n",
    "    ft1_trunc = np.hstack((np.mean(ft1, axis=1), np.std(ft1, axis=1), skew(ft1, axis = 1), np.max(ft1, axis = 1), np.median(ft1, axis = 1), np.min(ft1, axis = 1)))\n",
    "    return pd.Series(np.hstack(ft1_trunc))"
   ]
  },
  {
   "cell_type": "code",
   "execution_count": 214,
   "id": "2c743217",
   "metadata": {},
   "outputs": [],
   "source": [
    "df_final = pd.DataFrame()\n",
    "for i in range(len(df)):\n",
    "    y= df['audio'].iloc[i].numpy()\n",
    "    df_final = df_final.append(get_mfcc(y), ignore_index=True)"
   ]
  },
  {
   "cell_type": "code",
   "execution_count": 215,
   "id": "0fd9c150",
   "metadata": {},
   "outputs": [],
   "source": [
    "def rating(row):\n",
    "    if row['intensity']< 20 and row['intensity']> 0:\n",
    "        return 1\n",
    "    if row['intensity']< 40 and row['intensity'] > 20:\n",
    "        return 2\n",
    "    if row['intensity']< 60 and row['intensity']> 40:\n",
    "        return 3\n",
    "    if row['intensity']< 80 and row['intensity']> 60:\n",
    "        return 4\n",
    "    if row['intensity'] < 100 and row['intensity']> 80:\n",
    "        return 5\n",
    "\n",
    "df['rating'] = df.apply(lambda row: rating(row), axis=1)"
   ]
  },
  {
   "cell_type": "code",
   "execution_count": 216,
   "id": "28d9a671",
   "metadata": {},
   "outputs": [],
   "source": [
    "df_final['rating'] = df['rating']"
   ]
  },
  {
   "cell_type": "code",
   "execution_count": 217,
   "id": "66d3c6e2",
   "metadata": {},
   "outputs": [],
   "source": [
    "from sklearn.model_selection import train_test_split\n",
    "df_final['rating'] = df_final['rating'].apply(lambda x: int(x))\n",
    "\n",
    "X = df_final.iloc[:,:-1]\n",
    "y = df_final.iloc[:,-1:]\n",
    "X_train, X_test, y_train, y_test = train_test_split(X, y, test_size=0.2, random_state=0)"
   ]
  },
  {
   "cell_type": "code",
   "execution_count": 218,
   "id": "82236af5",
   "metadata": {},
   "outputs": [
    {
     "name": "stdout",
     "output_type": "stream",
     "text": [
      "Accuracy: 0.365211810012837\n"
     ]
    }
   ],
   "source": [
    "from sklearn import datasets, svm\n",
    "\n",
    "\n",
    "clf = svm.SVC(C=100, gamma=0.0000009)\n",
    "clf.fit(X_train, y_train.values.ravel())\n",
    "y_pred = clf.predict(X_test)\n",
    "\n",
    "from sklearn.metrics import confusion_matrix\n",
    "y_true = y_test\n",
    "from sklearn.metrics import accuracy_score\n",
    "print(\"Accuracy:\", accuracy_score(y_true, y_pred))\n"
   ]
  },
  {
   "cell_type": "code",
   "execution_count": 219,
   "id": "9d2c1f59",
   "metadata": {},
   "outputs": [
    {
     "data": {
      "image/png": "[encoded data removed]",
      "text/plain": [
       "<Figure size 432x288 with 2 Axes>"
      ]
     },
     "metadata": {
      "needs_background": "light"
     },
     "output_type": "display_data"
    }
   ],
   "source": [
    "from sklearn import svm, datasets\n",
    "from sklearn.metrics import confusion_matrix, ConfusionMatrixDisplay, plot_confusion_matrix\n",
    "\n",
    "plot_confusion_matrix(clf, X_test, y_test)  \n",
    "plt.show()"
   ]
  },
  {
   "cell_type": "code",
   "execution_count": 220,
   "id": "1996c61e",
   "metadata": {},
   "outputs": [
    {
     "data": {
      "text/plain": [
       "array([[<AxesSubplot:title={'center':'intensity'}>]], dtype=object)"
      ]
     },
     "execution_count": 220,
     "metadata": {},
     "output_type": "execute_result"
    },
    {
     "data": {
      "image/png": "[encoded data removed]",
      "text/plain": [
       "<Figure size 432x288 with 1 Axes>"
      ]
     },
     "metadata": {
      "needs_background": "light"
     },
     "output_type": "display_data"
    }
   ],
   "source": [
    "df.hist(column='intensity')"
   ]
  },
  {
   "cell_type": "code",
   "execution_count": 221,
   "id": "f455a135",
   "metadata": {},
   "outputs": [
    {
     "data": {
      "text/plain": [
       "0.21131512392448815"
      ]
     },
     "execution_count": 221,
     "metadata": {},
     "output_type": "execute_result"
    }
   ],
   "source": [
    "from sklearn.metrics import matthews_corrcoef\n",
    "matthews_corrcoef(y_test, y_pred)"
   ]
  },
  {
   "cell_type": "code",
   "execution_count": 222,
   "id": "576979e5",
   "metadata": {},
   "outputs": [
    {
     "data": {
      "text/plain": [
       "SpearmanrResult(correlation=0.5346999551038434, pvalue=6.304884098009008e-116)"
      ]
     },
     "execution_count": 222,
     "metadata": {},
     "output_type": "execute_result"
    }
   ],
   "source": [
    "from scipy import stats\n",
    "stats.spearmanr(y_test, y_pred)"
   ]
  },
  {
   "cell_type": "code",
   "execution_count": null,
   "id": "9579f9c8",
   "metadata": {},
   "outputs": [],
   "source": []
  }
 ],
 "metadata": {
  "kernelspec": {
   "display_name": "conda_pytorch_p36",
   "language": "python",
   "name": "conda_pytorch_p36"
  },
  "language_info": {
   "codemirror_mode": {
    "name": "ipython",
    "version": 3
   },
   "file_extension": ".py",
   "mimetype": "text/x-python",
   "name": "python",
   "nbconvert_exporter": "python",
   "pygments_lexer": "ipython3",
   "version": "3.6.13"
  }
 },
 "nbformat": 4,
 "nbformat_minor": 5
}
