{
 "cells": [
  {
   "cell_type": "code",
   "execution_count": 1,
   "id": "3736033e",
   "metadata": {},
   "outputs": [],
   "source": [
    "import matplotlib.pyplot as plt\n",
    "import numpy as np\n",
    "import wave\n",
    "import sys\n",
    "import math\n",
    "import contextlib"
   ]
  },
  {
   "cell_type": "code",
   "execution_count": 32,
   "id": "da9fc78d",
   "metadata": {},
   "outputs": [],
   "source": [
    "fname = \"data_segments/0_1.wav\"\n",
    "outname = \"Test/0_1_lp2.wav\"\n",
    "\n",
    "cutOffFrequency = 1000.0"
   ]
  },
  {
   "cell_type": "code",
   "execution_count": 33,
   "id": "3b2cba81",
   "metadata": {},
   "outputs": [],
   "source": [
    "def running_mean(x, windowSize):\n",
    "  cumsum = np.cumsum(np.insert(x, 0, 0)) \n",
    "  return (cumsum[windowSize:] - cumsum[:-windowSize]) / windowSize"
   ]
  },
  {
   "cell_type": "code",
   "execution_count": 34,
   "id": "df7ebaf4",
   "metadata": {},
   "outputs": [],
   "source": [
    "def interpret_wav(raw_bytes, n_frames, n_channels, sample_width, interleaved = True):\n",
    "\n",
    "    if sample_width == 1:\n",
    "        dtype = np.uint8 # unsigned char\n",
    "    elif sample_width == 2:\n",
    "        dtype = np.int16 # signed 2-byte short\n",
    "    elif sample_width == 4:\n",
    "        dtype = np.int32\n",
    "    else:\n",
    "        raise ValueError(\"Only supports 8 and 16 bit audio formats.\")\n",
    "\n",
    "    channels = np.fromstring(raw_bytes, dtype=dtype)\n",
    "\n",
    "    if interleaved:\n",
    "        # channels are interleaved, i.e. sample N of channel M follows sample N of channel M-1 in raw data\n",
    "        channels.shape = (n_frames, n_channels)\n",
    "        channels = channels.T\n",
    "    else:\n",
    "        # channels are not interleaved. All samples from channel M occur before all samples from channel M-1\n",
    "        channels.shape = (n_channels, n_frames)\n",
    "\n",
    "    return channels"
   ]
  },
  {
   "cell_type": "code",
   "execution_count": 35,
   "id": "546fe8db",
   "metadata": {},
   "outputs": [
    {
     "name": "stderr",
     "output_type": "stream",
     "text": [
      "/home/ec2-user/anaconda3/envs/pytorch_p36/lib/python3.6/site-packages/ipykernel/__main__.py:12: DeprecationWarning: The binary mode of fromstring is deprecated, as it behaves surprisingly on unicode inputs. Use frombuffer instead\n"
     ]
    }
   ],
   "source": [
    "with contextlib.closing(wave.open(fname,'rb')) as spf:\n",
    "    sampleRate = spf.getframerate()\n",
    "    ampWidth = spf.getsampwidth()\n",
    "    nChannels = spf.getnchannels()\n",
    "    nFrames = spf.getnframes()\n",
    "\n",
    "    # Extract Raw Audio from multi-channel Wav File\n",
    "    signal = spf.readframes(nFrames*nChannels)\n",
    "    spf.close()\n",
    "    channels = interpret_wav(signal, nFrames, nChannels, ampWidth, True)\n",
    "\n",
    "    # get window size\n",
    "    # from http://dsp.stackexchange.com/questions/9966/what-is-the-cut-off-frequency-of-a-moving-average-filter\n",
    "    freqRatio = (cutOffFrequency/sampleRate)\n",
    "    N = int(math.sqrt(0.196196 + freqRatio**2)/freqRatio)\n",
    "\n",
    "    # Use moviung average (only on first channel)\n",
    "    filtered = running_mean(channels[0], N).astype(channels.dtype)\n",
    "\n",
    "    wav_file = wave.open(outname, \"w\")\n",
    "    wav_file.setparams((1, ampWidth, sampleRate, nFrames, spf.getcomptype(), spf.getcompname()))\n",
    "    wav_file.writeframes(filtered.tobytes('C'))\n",
    "    wav_file.close()"
   ]
  },
  {
   "cell_type": "code",
   "execution_count": null,
   "id": "7a86ccec",
   "metadata": {},
   "outputs": [],
   "source": [
    "# Reference: https://gist.github.com/piercus/b005ed5fbc70761bde96"
   ]
  },
  {
   "cell_type": "code",
   "execution_count": null,
   "id": "fb4bfb66",
   "metadata": {},
   "outputs": [],
   "source": []
  }
 ],
 "metadata": {
  "kernelspec": {
   "display_name": "conda_pytorch_p36",
   "language": "python",
   "name": "conda_pytorch_p36"
  },
  "language_info": {
   "codemirror_mode": {
    "name": "ipython",
    "version": 3
   },
   "file_extension": ".py",
   "mimetype": "text/x-python",
   "name": "python",
   "nbconvert_exporter": "python",
   "pygments_lexer": "ipython3",
   "version": "3.6.13"
  }
 },
 "nbformat": 4,
 "nbformat_minor": 5
}
